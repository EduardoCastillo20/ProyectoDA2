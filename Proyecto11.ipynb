{
 "cells": [
  {
   "cell_type": "markdown",
   "metadata": {},
   "source": [
    "# Hola &#x1F600;,\n",
    "\n",
    "Soy **Hesus Garcia** – **\"Soy el único Hesus que conoces (y probablemente conocerás) 🌟\"** – Sí, como \"Jesús\", pero con una H que me hace único. Puede sonar raro, pero créeme, ¡no lo olvidarás! Como tu revisor en Triple-Ten, estoy aquí para guiarte y ayudarte a mejorar tu código. Si algo necesita un ajuste, no hay de qué preocuparse; ¡aquí estoy para hacer que tu trabajo brille con todo su potencial! ✨\n",
    "\n",
    "Cada vez que encuentre un detalle importante en tu código, te lo señalaré para que puedas corregirlo y así te prepares para un ambiente de trabajo real, donde el líder de tu equipo actuaría de manera similar. Si en algún momento no logras solucionar el problema, te daré más detalles para ayudarte en nuestra próxima oportunidad de revisión.\n",
    "\n",
    "Es importante que cuando encuentres un comentario, **no los muevas, no los modifiques, ni los borres**.\n",
    "\n",
    "---\n",
    "\n",
    "### Formato de Comentarios\n",
    "\n",
    "Revisaré cuidadosamente cada implementación en tu notebook para asegurar que cumpla con los requisitos y te daré comentarios de acuerdo al siguiente formato:\n",
    "\n",
    "\n",
    "<div class=\"alert alert-block alert-success\">\n",
    "<b>Comentario del revisor</b> <a class=\"tocSkip\"></a><br>\n",
    "    \n",
    "<b>Éxito</b> - ¡Excelente trabajo! Esta parte está bien implementada y contribuye significativamente al análisis de datos o al proyecto. Continúa aplicando estas buenas prácticas en futuras secciones.\n",
    "    \n",
    "</div>\n",
    "\n",
    "<div class=\"alert alert-block alert-warning\">\n",
    "<b>Comentario del revisor</b> <a class=\"tocSkip\"></a><br>\n",
    "    \n",
    "<b>Atención</b> ⚠️ - Este código está correcto, pero se puede optimizar. Considera implementar mejoras para que sea más eficiente y fácil de leer. Esto fortalecerá la calidad de tu proyecto.\n",
    "    \n",
    "</div>\n",
    "\n",
    "<div class=\"alert alert-block alert-danger\">\n",
    "<b>Comentario del revisor</b> <a class=\"tocSkip\"></a><br>\n",
    "    \n",
    "<b>A resolver</b> ❗ - Aquí hay un problema o error en el código que es necesario corregir para aprobar esta sección. Por favor, revisa y corrige este punto, ya que es fundamental para la validez del análisis y la precisión de los resultados.\n",
    "    \n",
    "</div>\n",
    "\n",
    "---\n",
    "\n",
    "Al final de cada revisión, recibirás un **Comentario General del Revisor** que incluirá:\n",
    "\n",
    "- **Aspectos positivos:** Un resumen de los puntos fuertes de tu proyecto.\n",
    "- **Áreas de mejora:** Sugerencias sobre aspectos donde puedes mejorar.\n",
    "- **Temas adicionales para investigar:** Ideas de temas opcionales que puedes explorar por tu cuenta para desarrollar aún más tus habilidades.\n",
    "\n",
    "Estos temas adicionales no son obligatorios en esta etapa, pero pueden serte útiles para profundizar en el futuro.\n",
    "\n",
    "---\n",
    "\n",
    "\n",
    "Esta estructura en viñetas facilita la lectura y comprensión de cada parte del comentario final.\n",
    "\n",
    "También puedes responderme de la siguiente manera si tienes alguna duda o quieres aclarar algo específico:\n",
    "\n",
    "\n",
    "<div class=\"alert alert-block alert-info\">\n",
    "<b>Respuesta del estudiante</b> <a class=\"tocSkip\"></a>\n",
    "    \n",
    "Aquí puedes escribir tu respuesta o pregunta sobre el comentario.\n",
    "    \n",
    "</div>\n",
    "\n",
    "\n",
    "**¡Empecemos!** &#x1F680;\n",
    "\n",
    "\n",
    "\n",
    "\n",
    "\n",
    "\n",
    "\n",
    "\n",
    "\n",
    "\n",
    "\n",
    "\n"
   ]
  },
  {
   "cell_type": "markdown",
   "metadata": {},
   "source": [
    "# Paso 1. Abrir el archivo de datos y leer la información general"
   ]
  },
  {
   "cell_type": "code",
   "execution_count": 1,
   "metadata": {},
   "outputs": [],
   "source": [
    "#Librerias\n",
    "import pandas as pd\n",
    "import matplotlib.pyplot as plt\n",
    "from statsmodels.stats.proportion import proportions_ztest\n",
    "import numpy as np\n",
    "import scipy.stats as stats\n",
    "from scipy.stats import mannwhitneyu\n",
    "import seaborn as sns"
   ]
  },
  {
   "cell_type": "code",
   "execution_count": 2,
   "metadata": {},
   "outputs": [
    {
     "name": "stdout",
     "output_type": "stream",
     "text": [
      "<class 'pandas.core.frame.DataFrame'>\n",
      "RangeIndex: 244126 entries, 0 to 244125\n",
      "Data columns (total 4 columns):\n",
      " #   Column          Non-Null Count   Dtype \n",
      "---  ------          --------------   ----- \n",
      " 0   EventName       244126 non-null  object\n",
      " 1   DeviceIDHash    244126 non-null  int64 \n",
      " 2   EventTimestamp  244126 non-null  int64 \n",
      " 3   ExpId           244126 non-null  int64 \n",
      "dtypes: int64(3), object(1)\n",
      "memory usage: 7.5+ MB\n"
     ]
    }
   ],
   "source": [
    "df_events = pd.read_csv('/datasets/logs_exp_us.csv', sep='\\t')\n",
    "df_events.info()"
   ]
  },
  {
   "cell_type": "markdown",
   "metadata": {},
   "source": [
    "<div class=\"alert alert-block alert-success\">\n",
    "<b>Comentario del revisor</b> <a class=\"tocSkip\"></a><br>\n",
    "\n",
    "<b>Éxito</b> - Muy bien hecho. Se usan correctamente las bibliotecas necesarias y se carga el dataset sin errores. También se obtiene un resumen claro de la estructura de los datos con .info().\n",
    "\n",
    "</div>"
   ]
  },
  {
   "cell_type": "markdown",
   "metadata": {},
   "source": [
    "# Paso 2. Preparar los datos para el análisis"
   ]
  },
  {
   "cell_type": "markdown",
   "metadata": {},
   "source": [
    "## 2.1 Cambia el nombre de las columnas de manera que sea conveniente para ti."
   ]
  },
  {
   "cell_type": "code",
   "execution_count": 3,
   "metadata": {},
   "outputs": [
    {
     "data": {
      "text/html": [
       "<div>\n",
       "<style scoped>\n",
       "    .dataframe tbody tr th:only-of-type {\n",
       "        vertical-align: middle;\n",
       "    }\n",
       "\n",
       "    .dataframe tbody tr th {\n",
       "        vertical-align: top;\n",
       "    }\n",
       "\n",
       "    .dataframe thead th {\n",
       "        text-align: right;\n",
       "    }\n",
       "</style>\n",
       "<table border=\"1\" class=\"dataframe\">\n",
       "  <thead>\n",
       "    <tr style=\"text-align: right;\">\n",
       "      <th></th>\n",
       "      <th>EventName</th>\n",
       "      <th>DeviceIDHash</th>\n",
       "      <th>EventTimestamp</th>\n",
       "      <th>ExpId</th>\n",
       "    </tr>\n",
       "  </thead>\n",
       "  <tbody>\n",
       "    <tr>\n",
       "      <th>0</th>\n",
       "      <td>MainScreenAppear</td>\n",
       "      <td>4575588528974610257</td>\n",
       "      <td>1564029816</td>\n",
       "      <td>246</td>\n",
       "    </tr>\n",
       "    <tr>\n",
       "      <th>1</th>\n",
       "      <td>MainScreenAppear</td>\n",
       "      <td>7416695313311560658</td>\n",
       "      <td>1564053102</td>\n",
       "      <td>246</td>\n",
       "    </tr>\n",
       "    <tr>\n",
       "      <th>2</th>\n",
       "      <td>PaymentScreenSuccessful</td>\n",
       "      <td>3518123091307005509</td>\n",
       "      <td>1564054127</td>\n",
       "      <td>248</td>\n",
       "    </tr>\n",
       "    <tr>\n",
       "      <th>3</th>\n",
       "      <td>CartScreenAppear</td>\n",
       "      <td>3518123091307005509</td>\n",
       "      <td>1564054127</td>\n",
       "      <td>248</td>\n",
       "    </tr>\n",
       "    <tr>\n",
       "      <th>4</th>\n",
       "      <td>PaymentScreenSuccessful</td>\n",
       "      <td>6217807653094995999</td>\n",
       "      <td>1564055322</td>\n",
       "      <td>248</td>\n",
       "    </tr>\n",
       "  </tbody>\n",
       "</table>\n",
       "</div>"
      ],
      "text/plain": [
       "                 EventName         DeviceIDHash  EventTimestamp  ExpId\n",
       "0         MainScreenAppear  4575588528974610257      1564029816    246\n",
       "1         MainScreenAppear  7416695313311560658      1564053102    246\n",
       "2  PaymentScreenSuccessful  3518123091307005509      1564054127    248\n",
       "3         CartScreenAppear  3518123091307005509      1564054127    248\n",
       "4  PaymentScreenSuccessful  6217807653094995999      1564055322    248"
      ]
     },
     "execution_count": 3,
     "metadata": {},
     "output_type": "execute_result"
    }
   ],
   "source": [
    "df_events.head()"
   ]
  },
  {
   "cell_type": "code",
   "execution_count": 4,
   "metadata": {},
   "outputs": [
    {
     "data": {
      "text/html": [
       "<div>\n",
       "<style scoped>\n",
       "    .dataframe tbody tr th:only-of-type {\n",
       "        vertical-align: middle;\n",
       "    }\n",
       "\n",
       "    .dataframe tbody tr th {\n",
       "        vertical-align: top;\n",
       "    }\n",
       "\n",
       "    .dataframe thead th {\n",
       "        text-align: right;\n",
       "    }\n",
       "</style>\n",
       "<table border=\"1\" class=\"dataframe\">\n",
       "  <thead>\n",
       "    <tr style=\"text-align: right;\">\n",
       "      <th></th>\n",
       "      <th>Evento</th>\n",
       "      <th>IdUsuario</th>\n",
       "      <th>Tiempo</th>\n",
       "      <th>IdExperimento</th>\n",
       "    </tr>\n",
       "  </thead>\n",
       "  <tbody>\n",
       "    <tr>\n",
       "      <th>0</th>\n",
       "      <td>MainScreenAppear</td>\n",
       "      <td>4575588528974610257</td>\n",
       "      <td>1564029816</td>\n",
       "      <td>246</td>\n",
       "    </tr>\n",
       "    <tr>\n",
       "      <th>1</th>\n",
       "      <td>MainScreenAppear</td>\n",
       "      <td>7416695313311560658</td>\n",
       "      <td>1564053102</td>\n",
       "      <td>246</td>\n",
       "    </tr>\n",
       "    <tr>\n",
       "      <th>2</th>\n",
       "      <td>PaymentScreenSuccessful</td>\n",
       "      <td>3518123091307005509</td>\n",
       "      <td>1564054127</td>\n",
       "      <td>248</td>\n",
       "    </tr>\n",
       "    <tr>\n",
       "      <th>3</th>\n",
       "      <td>CartScreenAppear</td>\n",
       "      <td>3518123091307005509</td>\n",
       "      <td>1564054127</td>\n",
       "      <td>248</td>\n",
       "    </tr>\n",
       "    <tr>\n",
       "      <th>4</th>\n",
       "      <td>PaymentScreenSuccessful</td>\n",
       "      <td>6217807653094995999</td>\n",
       "      <td>1564055322</td>\n",
       "      <td>248</td>\n",
       "    </tr>\n",
       "  </tbody>\n",
       "</table>\n",
       "</div>"
      ],
      "text/plain": [
       "                    Evento            IdUsuario      Tiempo  IdExperimento\n",
       "0         MainScreenAppear  4575588528974610257  1564029816            246\n",
       "1         MainScreenAppear  7416695313311560658  1564053102            246\n",
       "2  PaymentScreenSuccessful  3518123091307005509  1564054127            248\n",
       "3         CartScreenAppear  3518123091307005509  1564054127            248\n",
       "4  PaymentScreenSuccessful  6217807653094995999  1564055322            248"
      ]
     },
     "execution_count": 4,
     "metadata": {},
     "output_type": "execute_result"
    }
   ],
   "source": [
    "df_events = df_events.rename(columns={'EventName': 'Evento', 'DeviceIDHash': 'IdUsuario','EventTimestamp':'Tiempo','ExpId':'IdExperimento'})\n",
    "df_events.head()"
   ]
  },
  {
   "cell_type": "markdown",
   "metadata": {},
   "source": [
    "## 2.2 Comprueba los tipos de datos y valores ausentes. Corrige los datos si es necesario."
   ]
  },
  {
   "cell_type": "code",
   "execution_count": 5,
   "metadata": {},
   "outputs": [
    {
     "data": {
      "text/plain": [
       "Evento           0\n",
       "IdUsuario        0\n",
       "Tiempo           0\n",
       "IdExperimento    0\n",
       "dtype: int64"
      ]
     },
     "execution_count": 5,
     "metadata": {},
     "output_type": "execute_result"
    }
   ],
   "source": [
    "df_events.isnull().sum()"
   ]
  },
  {
   "cell_type": "code",
   "execution_count": 6,
   "metadata": {},
   "outputs": [
    {
     "name": "stdout",
     "output_type": "stream",
     "text": [
      "<class 'pandas.core.frame.DataFrame'>\n",
      "RangeIndex: 244126 entries, 0 to 244125\n",
      "Data columns (total 4 columns):\n",
      " #   Column         Non-Null Count   Dtype \n",
      "---  ------         --------------   ----- \n",
      " 0   Evento         244126 non-null  object\n",
      " 1   IdUsuario      244126 non-null  object\n",
      " 2   Tiempo         244126 non-null  int64 \n",
      " 3   IdExperimento  244126 non-null  object\n",
      "dtypes: int64(1), object(3)\n",
      "memory usage: 7.5+ MB\n"
     ]
    }
   ],
   "source": [
    "df_events['IdUsuario'] = df_events['IdUsuario'].astype('object')\n",
    "df_events['IdExperimento'] = df_events['IdExperimento'].astype('object')\n",
    "df_events.info()"
   ]
  },
  {
   "cell_type": "markdown",
   "metadata": {},
   "source": [
    "## 2.3 Agrega una columna de fecha y hora y una columna separada para las fechas."
   ]
  },
  {
   "cell_type": "code",
   "execution_count": 7,
   "metadata": {},
   "outputs": [
    {
     "name": "stdout",
     "output_type": "stream",
     "text": [
      "<class 'pandas.core.frame.DataFrame'>\n",
      "RangeIndex: 244126 entries, 0 to 244125\n",
      "Data columns (total 6 columns):\n",
      " #   Column         Non-Null Count   Dtype         \n",
      "---  ------         --------------   -----         \n",
      " 0   Evento         244126 non-null  object        \n",
      " 1   IdUsuario      244126 non-null  object        \n",
      " 2   Tiempo         244126 non-null  int64         \n",
      " 3   IdExperimento  244126 non-null  object        \n",
      " 4   FechaHora      244126 non-null  datetime64[ns]\n",
      " 5   Fecha          244126 non-null  object        \n",
      "dtypes: datetime64[ns](1), int64(1), object(4)\n",
      "memory usage: 11.2+ MB\n"
     ]
    },
    {
     "data": {
      "text/html": [
       "<div>\n",
       "<style scoped>\n",
       "    .dataframe tbody tr th:only-of-type {\n",
       "        vertical-align: middle;\n",
       "    }\n",
       "\n",
       "    .dataframe tbody tr th {\n",
       "        vertical-align: top;\n",
       "    }\n",
       "\n",
       "    .dataframe thead th {\n",
       "        text-align: right;\n",
       "    }\n",
       "</style>\n",
       "<table border=\"1\" class=\"dataframe\">\n",
       "  <thead>\n",
       "    <tr style=\"text-align: right;\">\n",
       "      <th></th>\n",
       "      <th>Evento</th>\n",
       "      <th>IdUsuario</th>\n",
       "      <th>Tiempo</th>\n",
       "      <th>IdExperimento</th>\n",
       "      <th>FechaHora</th>\n",
       "      <th>Fecha</th>\n",
       "    </tr>\n",
       "  </thead>\n",
       "  <tbody>\n",
       "    <tr>\n",
       "      <th>0</th>\n",
       "      <td>MainScreenAppear</td>\n",
       "      <td>4575588528974610257</td>\n",
       "      <td>1564029816</td>\n",
       "      <td>246</td>\n",
       "      <td>2019-07-25 04:43:36</td>\n",
       "      <td>2019-07-25</td>\n",
       "    </tr>\n",
       "    <tr>\n",
       "      <th>1</th>\n",
       "      <td>MainScreenAppear</td>\n",
       "      <td>7416695313311560658</td>\n",
       "      <td>1564053102</td>\n",
       "      <td>246</td>\n",
       "      <td>2019-07-25 11:11:42</td>\n",
       "      <td>2019-07-25</td>\n",
       "    </tr>\n",
       "    <tr>\n",
       "      <th>2</th>\n",
       "      <td>PaymentScreenSuccessful</td>\n",
       "      <td>3518123091307005509</td>\n",
       "      <td>1564054127</td>\n",
       "      <td>248</td>\n",
       "      <td>2019-07-25 11:28:47</td>\n",
       "      <td>2019-07-25</td>\n",
       "    </tr>\n",
       "    <tr>\n",
       "      <th>3</th>\n",
       "      <td>CartScreenAppear</td>\n",
       "      <td>3518123091307005509</td>\n",
       "      <td>1564054127</td>\n",
       "      <td>248</td>\n",
       "      <td>2019-07-25 11:28:47</td>\n",
       "      <td>2019-07-25</td>\n",
       "    </tr>\n",
       "    <tr>\n",
       "      <th>4</th>\n",
       "      <td>PaymentScreenSuccessful</td>\n",
       "      <td>6217807653094995999</td>\n",
       "      <td>1564055322</td>\n",
       "      <td>248</td>\n",
       "      <td>2019-07-25 11:48:42</td>\n",
       "      <td>2019-07-25</td>\n",
       "    </tr>\n",
       "  </tbody>\n",
       "</table>\n",
       "</div>"
      ],
      "text/plain": [
       "                    Evento            IdUsuario      Tiempo IdExperimento  \\\n",
       "0         MainScreenAppear  4575588528974610257  1564029816           246   \n",
       "1         MainScreenAppear  7416695313311560658  1564053102           246   \n",
       "2  PaymentScreenSuccessful  3518123091307005509  1564054127           248   \n",
       "3         CartScreenAppear  3518123091307005509  1564054127           248   \n",
       "4  PaymentScreenSuccessful  6217807653094995999  1564055322           248   \n",
       "\n",
       "            FechaHora       Fecha  \n",
       "0 2019-07-25 04:43:36  2019-07-25  \n",
       "1 2019-07-25 11:11:42  2019-07-25  \n",
       "2 2019-07-25 11:28:47  2019-07-25  \n",
       "3 2019-07-25 11:28:47  2019-07-25  \n",
       "4 2019-07-25 11:48:42  2019-07-25  "
      ]
     },
     "execution_count": 7,
     "metadata": {},
     "output_type": "execute_result"
    }
   ],
   "source": [
    "df_events['FechaHora']=pd.to_datetime(df_events['Tiempo'], unit='s')\n",
    "df_events['Fecha'] = df_events['FechaHora'].dt.date\n",
    "df_events.info()\n",
    "df_events.head()"
   ]
  },
  {
   "cell_type": "markdown",
   "metadata": {},
   "source": [
    "<div class=\"alert alert-block alert-success\">\n",
    "<b>Comentario del revisor</b> <a class=\"tocSkip\"></a><br>\n",
    "\n",
    "<b>Éxito</b> - Excelente decisión al renombrar las columnas a nombres más comprensibles. Además, la conversión de tipos de datos es adecuada y se añaden correctamente las columnas de fecha y hora.\n",
    "\n",
    "</div>"
   ]
  },
  {
   "cell_type": "markdown",
   "metadata": {},
   "source": [
    "# Paso 3. Estudiar y comprobar los datos"
   ]
  },
  {
   "cell_type": "markdown",
   "metadata": {},
   "source": [
    "## 3.1 ¿Cuántos eventos hay en los registros?"
   ]
  },
  {
   "cell_type": "code",
   "execution_count": 8,
   "metadata": {},
   "outputs": [
    {
     "name": "stdout",
     "output_type": "stream",
     "text": [
      "Total de eventos\n",
      "244126\n",
      "Eventos únicos\n",
      "5\n",
      "['MainScreenAppear' 'PaymentScreenSuccessful' 'CartScreenAppear'\n",
      " 'OffersScreenAppear' 'Tutorial']\n"
     ]
    }
   ],
   "source": [
    "print(\"Total de eventos\")\n",
    "print(len(df_events['Evento']))\n",
    "print(\"Eventos únicos\")\n",
    "print(df_events['Evento'].nunique())\n",
    "print(df_events['Evento'].unique())"
   ]
  },
  {
   "cell_type": "markdown",
   "metadata": {},
   "source": [
    "## 3.2 ¿Cuántos usuarios hay en los registros?"
   ]
  },
  {
   "cell_type": "code",
   "execution_count": 9,
   "metadata": {},
   "outputs": [
    {
     "name": "stdout",
     "output_type": "stream",
     "text": [
      "7551\n"
     ]
    }
   ],
   "source": [
    "print(df_events['IdUsuario'].nunique())"
   ]
  },
  {
   "cell_type": "markdown",
   "metadata": {},
   "source": [
    "## 3.3 ¿Cuál es el promedio de eventos por usuario?"
   ]
  },
  {
   "cell_type": "code",
   "execution_count": 10,
   "metadata": {},
   "outputs": [
    {
     "name": "stdout",
     "output_type": "stream",
     "text": [
      "32.33028737915508\n"
     ]
    }
   ],
   "source": [
    "print(len(df_events['Evento'])/df_events['IdUsuario'].nunique())"
   ]
  },
  {
   "cell_type": "markdown",
   "metadata": {},
   "source": [
    "## 3.4 ¿Qué periodo de tiempo cubren los datos? Encuentra la fecha máxima y mínima. Traza un histograma por fecha y hora. ¿Puedes tener seguridad de que tienes datos igualmente completos para todo el periodo? Los eventos más antiguos podrían terminar en los registros de algunos usuarios por razones técnicas y esto podría sesgar el panorama general. Encuentra el momento en el que los datos comienzan a estar completos e ignora la sección anterior. ¿Qué periodo representan realmente los datos?"
   ]
  },
  {
   "cell_type": "code",
   "execution_count": 11,
   "metadata": {},
   "outputs": [
    {
     "name": "stdout",
     "output_type": "stream",
     "text": [
      "Periodo de tiempo 2019-07-25 04:43:36 A 2019-08-07 21:15:17\n"
     ]
    }
   ],
   "source": [
    "print(\"Periodo de tiempo\",df_events['FechaHora'].min(),\"A\",df_events['FechaHora'].max())"
   ]
  },
  {
   "cell_type": "code",
   "execution_count": 12,
   "metadata": {},
   "outputs": [
    {
     "data": {
      "image/png": "[encoded data removed]",
      "text/plain": [
       "<Figure size 640x480 with 1 Axes>"
      ]
     },
     "metadata": {},
     "output_type": "display_data"
    }
   ],
   "source": [
    "df_events[\"Fecha\"].value_counts().sort_index().plot(kind=\"bar\")\n",
    "plt.title(\"Eventos por fecha\")\n",
    "plt.xticks(rotation=45)\n",
    "plt.tight_layout()\n",
    "plt.show()"
   ]
  },
  {
   "cell_type": "markdown",
   "metadata": {},
   "source": [
    "## 3.5 ¿Perdiste muchos eventos y usuarios al excluir los datos más antiguos?"
   ]
  },
  {
   "cell_type": "code",
   "execution_count": 13,
   "metadata": {},
   "outputs": [
    {
     "name": "stdout",
     "output_type": "stream",
     "text": [
      "cutoff 2019-07-26\n"
     ]
    }
   ],
   "source": [
    "daily_users = df_events.groupby(\"Fecha\")['IdUsuario'].nunique()\n",
    "cutoff = daily_users[daily_users>daily_users.quantile(0.05)].index.min()\n",
    "print(\"cutoff\",cutoff)"
   ]
  },
  {
   "cell_type": "code",
   "execution_count": 14,
   "metadata": {},
   "outputs": [
    {
     "name": "stdout",
     "output_type": "stream",
     "text": [
      "Pérdida de eventos: 0.0%\n",
      "Pérdida de usuarios: 0.0%\n"
     ]
    }
   ],
   "source": [
    "filtered=df_events[df_events['Fecha']>=cutoff]\n",
    "print(f\"Pérdida de eventos: {(1-len(filtered)/len(df_events)):.1%}\")\n",
    "print(f\"Pérdida de usuarios: {(1-filtered['IdUsuario'].nunique()/df_events['IdUsuario'].nunique()):.1%}\")"
   ]
  },
  {
   "cell_type": "markdown",
   "metadata": {},
   "source": [
    "## 3.6 Asegúrate de tener usuarios de los tres grupos experimentales."
   ]
  },
  {
   "cell_type": "code",
   "execution_count": 15,
   "metadata": {},
   "outputs": [
    {
     "data": {
      "text/plain": [
       "248    85743\n",
       "246    80300\n",
       "247    78074\n",
       "Name: IdExperimento, dtype: int64"
      ]
     },
     "metadata": {},
     "output_type": "display_data"
    }
   ],
   "source": [
    "display(filtered['IdExperimento'].value_counts())"
   ]
  },
  {
   "cell_type": "markdown",
   "metadata": {},
   "source": [
    "<div class=\"alert alert-block alert-warning\">\n",
    "\n",
    "<b>Comentario del revisor</b> <a class=\"tocSkip\"></a><br>\n",
    "\n",
    "<b>Atención</b> ⚠️ - Buen trabajo en la identificación de eventos, usuarios y fechas. Una mejora que podrías considerar es **mostrar directamente los días con menor número de usuarios antes del corte**, para entender por qué se seleccionó ese punto. Además, hay un pequeño error de lógica en el cálculo de la **\"pérdida de usuarios\"**, ya que el valor **200% no es correcto**. Deberías usar esta fórmula:\n",
    "\n",
    "```python\n",
    "(1 - filtered['IdUsuario'].nunique() / df_events['IdUsuario'].nunique())\n",
    "```\n",
    "\n",
    "Esto fortalecerá el análisis de completitud de los datos. ¡Vas por muy buen camino!\n",
    "\n",
    "</div>"
   ]
  },
  {
   "cell_type": "markdown",
   "metadata": {},
   "source": [
    "# Paso 4. Estudiar el embudo de eventos"
   ]
  },
  {
   "cell_type": "markdown",
   "metadata": {},
   "source": [
    "## 4.1 Observa qué eventos hay en los registros y su frecuencia de suceso. Ordénalos por frecuencia."
   ]
  },
  {
   "cell_type": "code",
   "execution_count": 16,
   "metadata": {},
   "outputs": [
    {
     "data": {
      "text/plain": [
       "MainScreenAppear           119201\n",
       "OffersScreenAppear          46824\n",
       "CartScreenAppear            42729\n",
       "PaymentScreenSuccessful     34311\n",
       "Tutorial                     1052\n",
       "Name: Evento, dtype: int64"
      ]
     },
     "metadata": {},
     "output_type": "display_data"
    }
   ],
   "source": [
    "top_events = filtered['Evento'].value_counts()\n",
    "display(top_events.head(10))"
   ]
  },
  {
   "cell_type": "markdown",
   "metadata": {},
   "source": [
    "## 4.2 Encuentra la cantidad de usuarios que realizaron cada una de estas acciones. Ordena los eventos por el número de usuarios. Calcula la proporción de usuarios que realizaron la acción al menos una vez."
   ]
  },
  {
   "cell_type": "code",
   "execution_count": 17,
   "metadata": {},
   "outputs": [],
   "source": [
    "#Se define el evento\n",
    "funnel = ['MainScreenAppear','OffersScreenAppear','CartScreenAppear','PaymentScreenSuccessful']"
   ]
  },
  {
   "cell_type": "code",
   "execution_count": 18,
   "metadata": {},
   "outputs": [
    {
     "data": {
      "text/plain": [
       "Evento\n",
       "MainScreenAppear           7439\n",
       "OffersScreenAppear         4613\n",
       "CartScreenAppear           3749\n",
       "PaymentScreenSuccessful    3547\n",
       "Name: IdUsuario, dtype: int64"
      ]
     },
     "metadata": {},
     "output_type": "display_data"
    }
   ],
   "source": [
    "#Usuarios por evento\n",
    "user_event = filtered.groupby('Evento')['IdUsuario'].nunique().loc[funnel]\n",
    "display(user_event)"
   ]
  },
  {
   "cell_type": "markdown",
   "metadata": {},
   "source": [
    "## 4.3 ¿En qué orden crees que ocurrieron las acciones? ¿Todas son parte de una sola secuencia? No es necesario tenerlas en cuenta al calcular el embudo."
   ]
  },
  {
   "cell_type": "markdown",
   "metadata": {},
   "source": [
    "1 MainScreenAppear (pantalla principal)\n",
    "2 OffersScreenAppear (pantalla de ofertas)\n",
    "3 CartScreenAppear (carrito de compras)\n",
    "4 PaymentScreenSuccessful (pago exitoso)\n",
    "\n",
    "- Este orden simula un flujo de compra típico: navegar, ver ofertas, añadir al carrito y pagar. Tutorial parece no ser parte del embudo, ya que es raro y no ocurre en todos los usuarios."
   ]
  },
  {
   "cell_type": "markdown",
   "metadata": {},
   "source": [
    "## 4.4 Utiliza el embudo de eventos para encontrar la proporción de usuarios que pasan de una etapa a la siguiente. Por ejemplo, para la secuencia de eventos A → B → C, calcula la proporción de usuarios en la etapa B a la cantidad de usuarios en la etapa A y la proporción de usuarios en la etapa C a la cantidad en la etapa B."
   ]
  },
  {
   "cell_type": "code",
   "execution_count": 19,
   "metadata": {},
   "outputs": [
    {
     "name": "stdout",
     "output_type": "stream",
     "text": [
      "🔄 Conversión entre etapas:\n",
      "Evento\n",
      "OffersScreenAppear         0.620110\n",
      "CartScreenAppear           0.812703\n",
      "PaymentScreenSuccessful    0.946119\n",
      "Name: IdUsuario, dtype: float64\n"
     ]
    }
   ],
   "source": [
    "# Proporción de conversión entre etapas del embudo\n",
    "conversion = user_event / user_event.shift(1)\n",
    "conversion = conversion.dropna()\n",
    "print(\"🔄 Conversión entre etapas:\")\n",
    "print(conversion)"
   ]
  },
  {
   "cell_type": "markdown",
   "metadata": {},
   "source": [
    "## 4.5 ¿En qué etapa pierdes más usuarios?"
   ]
  },
  {
   "cell_type": "code",
   "execution_count": 20,
   "metadata": {},
   "outputs": [
    {
     "name": "stdout",
     "output_type": "stream",
     "text": [
      "⚠️ Mayor pérdida de usuarios ocurre entre etapas: OffersScreenAppear con conversión del 62.01%\n"
     ]
    }
   ],
   "source": [
    "# Etapa con mayor pérdida (menor conversión)\n",
    "drop_stage = conversion.idxmin()\n",
    "drop_value = conversion.min()\n",
    "print(f\"⚠️ Mayor pérdida de usuarios ocurre entre etapas: {drop_stage} con conversión del {drop_value:.2%}\")"
   ]
  },
  {
   "cell_type": "markdown",
   "metadata": {},
   "source": [
    "## 4.6 ¿Qué porcentaje de usuarios hace todo el viaje desde su primer evento hasta el pago?"
   ]
  },
  {
   "cell_type": "code",
   "execution_count": 21,
   "metadata": {},
   "outputs": [
    {
     "name": "stdout",
     "output_type": "stream",
     "text": [
      "✅ Porcentaje de usuarios que completan el embudo: 47.68%\n"
     ]
    }
   ],
   "source": [
    "# % de usuarios que llegan al final\n",
    "final_conversion = user_event['PaymentScreenSuccessful'] / user_event['MainScreenAppear']\n",
    "print(f\"✅ Porcentaje de usuarios que completan el embudo: {final_conversion:.2%}\")"
   ]
  },
  {
   "cell_type": "markdown",
   "metadata": {},
   "source": [
    "\n",
    "<div class=\"alert alert-block alert-success\">\n",
    "\n",
    "<b>Comentario del revisor</b> <a class=\"tocSkip\"></a><br>\n",
    "\n",
    "<b>Éxito</b> - La estructura del embudo está muy bien identificada, y los cálculos de conversión son claros y correctos. También es destacable que se haya identificado correctamente el evento que más pierde usuarios.\n",
    "\n",
    "</div>\n"
   ]
  },
  {
   "cell_type": "markdown",
   "metadata": {},
   "source": [
    "# Paso 5. Estudiar los resultados del experimento"
   ]
  },
  {
   "cell_type": "markdown",
   "metadata": {},
   "source": [
    "## 5.1 ¿Cuántos usuarios hay en cada grupo?"
   ]
  },
  {
   "cell_type": "code",
   "execution_count": 22,
   "metadata": {},
   "outputs": [
    {
     "name": "stdout",
     "output_type": "stream",
     "text": [
      "Usuarios por grupo experimental:\n",
      "IdExperimento\n",
      "246    2489\n",
      "247    2520\n",
      "248    2542\n",
      "Name: IdUsuario, dtype: int64\n"
     ]
    }
   ],
   "source": [
    "user_counts = filtered.groupby('IdExperimento')['IdUsuario'].nunique()\n",
    "print(\"Usuarios por grupo experimental:\")\n",
    "print(user_counts)"
   ]
  },
  {
   "cell_type": "code",
   "execution_count": 23,
   "metadata": {},
   "outputs": [],
   "source": [
    "group_event = filtered.pivot_table(index='Evento',columns='IdExperimento', values='IdUsuario', aggfunc='nunique').sort_values(by=246, ascending=False)"
   ]
  },
  {
   "cell_type": "code",
   "execution_count": 24,
   "metadata": {},
   "outputs": [
    {
     "data": {
      "image/png": "[encoded data removed]",
      "text/plain": [
       "<Figure size 640x480 with 1 Axes>"
      ]
     },
     "metadata": {},
     "output_type": "display_data"
    }
   ],
   "source": [
    "group_event.plot(kind='bar')  # Gráfico de barras\n",
    "plt.title('Grupos por Evento')\n",
    "plt.ylabel('Frecuencia')\n",
    "plt.legend(title='Grupo')\n",
    "plt.tight_layout()\n",
    "plt.show()"
   ]
  },
  {
   "cell_type": "code",
   "execution_count": 25,
   "metadata": {},
   "outputs": [
    {
     "name": "stdout",
     "output_type": "stream",
     "text": [
      "La tasa de conversión por grupo es:  \n",
      " IdExperimento\n",
      "246    0.4894\n",
      "247    0.4674\n",
      "248    0.4738\n",
      "dtype: float64\n"
     ]
    }
   ],
   "source": [
    "#Cálculo de tasa de conversión final de los usuarios (es decir, que efectuaron la compra)\n",
    "conversion = (group_event.loc['PaymentScreenSuccessful'] / group_event.loc['MainScreenAppear']).round(4)\n",
    "print('La tasa de conversión por grupo es: ', '\\n', conversion)"
   ]
  },
  {
   "cell_type": "code",
   "execution_count": 26,
   "metadata": {},
   "outputs": [
    {
     "data": {
      "image/png": "[encoded data removed]",
      "text/plain": [
       "<Figure size 640x480 with 1 Axes>"
      ]
     },
     "metadata": {},
     "output_type": "display_data"
    }
   ],
   "source": [
    "conversion.plot(kind='bar', color='green')\n",
    "plt.title('Tasa de Conversión por Grupo')\n",
    "plt.xlabel('Grupo')\n",
    "plt.ylabel('Tasa de Conversión')\n",
    "plt.ylim(0, 1)\n",
    "plt.tight_layout()\n",
    "plt.show()"
   ]
  },
  {
   "cell_type": "markdown",
   "metadata": {},
   "source": [
    "## 5.2 Tenemos dos grupos de control en el test A/A, donde comprobamos nuestros mecanismos y cálculos. Observa si hay una diferencia estadísticamente significativa entre las muestras 246 y 247."
   ]
  },
  {
   "cell_type": "markdown",
   "metadata": {},
   "source": [
    "El valor de significancia para efecto de las pruebas será del 5% donde:\n",
    "\n",
    "* H0 = Las muestras 246 y 247 no tienen diferencias significativas\n",
    "* H1 = Las muestras 246 y 247 tienen diferencias significativas"
   ]
  },
  {
   "cell_type": "code",
   "execution_count": 27,
   "metadata": {},
   "outputs": [
    {
     "name": "stdout",
     "output_type": "stream",
     "text": [
      "El evento más popular o más concurrido es MainScreenAppear\n"
     ]
    }
   ],
   "source": [
    "#Cálculo del evento más popular\n",
    "popular = filtered['Evento'].value_counts().idxmax()\n",
    "print('El evento más popular o más concurrido es', popular)"
   ]
  },
  {
   "cell_type": "markdown",
   "metadata": {},
   "source": [
    "## 5.3 Selecciona el evento más popular. En cada uno de los grupos de control, encuentra la cantidad de usuarios que realizaron esta acción. Encuentra su proporción. Comprueba si la diferencia entre los grupos es estadísticamente significativa. Repite el procedimiento para todos los demás eventos (ahorrarás tiempo si creas una función especial para esta prueba). ¿Puedes confirmar que los grupos se dividieron correctamente?"
   ]
  },
  {
   "cell_type": "code",
   "execution_count": 28,
   "metadata": {},
   "outputs": [
    {
     "name": "stdout",
     "output_type": "stream",
     "text": [
      "Los usuarios que ingresaron a la aplicación son:   \n",
      "  IdExperimento\n",
      "246    2456\n",
      "247    2482\n",
      "Name: IdUsuario, dtype: int64\n",
      "\n",
      "Lo anterior representa una proporción respecto del grupo control de : \n",
      "  IdExperimento\n",
      "246    0.9867\n",
      "247    0.9849\n",
      "Name: IdUsuario, dtype: float64\n"
     ]
    }
   ],
   "source": [
    "# Filtro del grupo control\n",
    "ctrl_group = filtered[filtered['IdExperimento'].isin([246,247])]\n",
    "\n",
    "#Filtro del grupo control de los casos que caen en la fase o evento más popular, en nuestro caso es la compra efectuada\n",
    "event_users = ctrl_group[ctrl_group['Evento'] == popular]\n",
    "\n",
    "#Conteo de usuarios \n",
    "counting = event_users.groupby('IdExperimento')['IdUsuario'].nunique()\n",
    "\n",
    "#Cálculo de la proporción de usuarios del grupo control\n",
    "proportion = counting / ctrl_group.groupby('IdExperimento')['IdUsuario'].nunique()\n",
    "\n",
    "#Mostrar resultados\n",
    "print('Los usuarios que ingresaron a la aplicación son: ',' \\n ', counting)\n",
    "print()\n",
    "print('Lo anterior representa una proporción respecto del grupo control de :' ' \\n ', proportion.round(4))\n"
   ]
  },
  {
   "cell_type": "markdown",
   "metadata": {},
   "source": [
    "<S>\n",
    "<div class=\"alert alert-block alert-danger\">\n",
    "\n",
    "<b>Comentario del revisor</b> <a class=\"tocSkip\"></a><br>\n",
    "\n",
    "<b>A resolver</b> ❗ - Buen intento al implementar las pruebas estadísticas. Sin embargo, hay un problema importante: **ninguna comparación devuelve resultados válidos (todos los p-valores son \"no se pudo calcular\")**, lo que sugiere que probablemente **los datos no están correctamente filtrados o agrupados antes de aplicar las pruebas**. Esto afecta directamente la validez del análisis experimental. Revisa si las IDs de usuarios están correctamente diferenciadas por grupo y evento antes de aplicar las pruebas z. ¡Confío en que puedes solucionarlo con un pequeño ajuste!\n",
    "\n",
    "</div>\n"
   ]
  },
  {
   "cell_type": "markdown",
   "metadata": {},
   "source": [
    "## 5.4 Haz lo mismo para el grupo con fuentes alteradas. Compara los resultados con los de cada uno de los grupos de control para cada evento de forma aislada. Compara los resultados con los resultados combinados de los grupos de control. ¿Qué conclusiones puedes sacar del experimento?"
   ]
  },
  {
   "cell_type": "code",
   "execution_count": 29,
   "metadata": {},
   "outputs": [],
   "source": [
    "#Se define función para prueba A/A: 1 si realizó el evento, 0 no lo realizó.\n",
    "\n",
    "def datos_test(df, evento,grupo):\n",
    "    users = df[df['IdExperimento'] == grupo]['IdUsuario'].unique()\n",
    "    event_done = df[(df['IdExperimento'] == grupo) & (df['Evento'] == evento)]['IdUsuario'].unique()\n",
    "    return pd.Series([1 if u in event_done else 0 for u in users])    "
   ]
  },
  {
   "cell_type": "code",
   "execution_count": 30,
   "metadata": {},
   "outputs": [],
   "source": [
    "#Preparar los datos\n",
    "a = datos_test(filtered, popular, 246)\n",
    "b = datos_test(filtered, popular, 247)"
   ]
  },
  {
   "cell_type": "code",
   "execution_count": 31,
   "metadata": {},
   "outputs": [
    {
     "name": "stdout",
     "output_type": "stream",
     "text": [
      "Valor P:  0.586\n",
      "Diferencia relativa de los promedios de indice de conversión del grupo B vs A :  -0.00185 \n",
      "\n",
      "No existe diferencia significativa\n"
     ]
    }
   ],
   "source": [
    "#Aplicamos prueba Mann-Whitney U y significancia\n",
    "alpha = 0.05\n",
    "\n",
    "mannwhitneyu = (stats.mannwhitneyu(a,b)[1])\n",
    "significancia = (b.mean() / a.mean()-1)\n",
    "\n",
    "#Mostrar resultados\n",
    "print('Valor P: ', mannwhitneyu.round(3))\n",
    "print(\"Diferencia relativa de los promedios de indice de conversión del grupo B vs A : \", significancia.round(5), '\\n')\n",
    "\n",
    "if (mannwhitneyu < alpha):\n",
    "    print(\"Rechazamos la hipótesis nula, ya que existe diferencia significativa\")\n",
    "else:\n",
    "    print(\"No existe diferencia significativa\")"
   ]
  },
  {
   "cell_type": "markdown",
   "metadata": {},
   "source": [
    "<S>\n",
    "<div class=\"alert alert-block alert-danger\">\n",
    "\n",
    "<b>Comentario del revisor</b> <a class=\"tocSkip\"></a><br>\n",
    "\n",
    "<b>A resolver</b> ❗ - En la sección de pruebas estadísticas (`Paso 5.2 a 5.4`), las funciones no retornan resultados válidos porque **algunos grupos experimentales no tienen registros para ciertos eventos**, o bien, **los usuarios con esos eventos fueron excluidos por el filtrado de fechas**. Para solucionarlo, revisa y depura manualmente las siguientes combinaciones antes de hacer los tests:\n",
    "\n",
    "* Para cada combinación de `IdExperimento` y `Evento`, asegúrate de que:\n",
    "\n",
    "  * Hay usuarios (`nobs > 0`)\n",
    "  * El evento existe en ese grupo (`counts > 0`)\n",
    "  * La proporción `counts/nobs` es válida (no mayor a 1)\n",
    "\n",
    "\n",
    "</div>\n",
    "\n",
    "¿Quieres que construya esa tabla de crosstab por ti con tus datos actuales?\n"
   ]
  },
  {
   "cell_type": "markdown",
   "metadata": {},
   "source": [
    "## 5.5 ¿Qué nivel de significancia has establecido para probar las hipótesis estadísticas mencionadas anteriormente? Calcula cuántas pruebas de hipótesis estadísticas has realizado. Con un nivel de significancia estadística de 0.1, uno de cada 10 resultados podría ser falso. ¿Cuál debería ser el nivel de significancia? Si deseas cambiarlo, vuelve a ejecutar los pasos anteriores y comprueba tus conclusiones."
   ]
  },
  {
   "cell_type": "code",
   "execution_count": 32,
   "metadata": {},
   "outputs": [
    {
     "data": {
      "text/html": [
       "<div>\n",
       "<style scoped>\n",
       "    .dataframe tbody tr th:only-of-type {\n",
       "        vertical-align: middle;\n",
       "    }\n",
       "\n",
       "    .dataframe tbody tr th {\n",
       "        vertical-align: top;\n",
       "    }\n",
       "\n",
       "    .dataframe thead th {\n",
       "        text-align: right;\n",
       "    }\n",
       "</style>\n",
       "<table border=\"1\" class=\"dataframe\">\n",
       "  <thead>\n",
       "    <tr style=\"text-align: right;\">\n",
       "      <th></th>\n",
       "      <th>Evento</th>\n",
       "      <th>p_246vs247</th>\n",
       "      <th>p_246vs248</th>\n",
       "      <th>p_247vs248</th>\n",
       "    </tr>\n",
       "  </thead>\n",
       "  <tbody>\n",
       "    <tr>\n",
       "      <th>0</th>\n",
       "      <td>MainScreenAppear</td>\n",
       "      <td>0.585734</td>\n",
       "      <td>0.397822</td>\n",
       "      <td>0.763273</td>\n",
       "    </tr>\n",
       "    <tr>\n",
       "      <th>1</th>\n",
       "      <td>CartScreenAppear</td>\n",
       "      <td>0.198224</td>\n",
       "      <td>0.105379</td>\n",
       "      <td>0.740643</td>\n",
       "    </tr>\n",
       "    <tr>\n",
       "      <th>2</th>\n",
       "      <td>OffersScreenAppear</td>\n",
       "      <td>0.323376</td>\n",
       "      <td>0.253218</td>\n",
       "      <td>0.878078</td>\n",
       "    </tr>\n",
       "    <tr>\n",
       "      <th>3</th>\n",
       "      <td>PaymentScreenSuccessful</td>\n",
       "      <td>0.109063</td>\n",
       "      <td>0.234090</td>\n",
       "      <td>0.676421</td>\n",
       "    </tr>\n",
       "    <tr>\n",
       "      <th>4</th>\n",
       "      <td>Tutorial</td>\n",
       "      <td>0.875684</td>\n",
       "      <td>0.896316</td>\n",
       "      <td>0.773335</td>\n",
       "    </tr>\n",
       "  </tbody>\n",
       "</table>\n",
       "</div>"
      ],
      "text/plain": [
       "                    Evento  p_246vs247  p_246vs248  p_247vs248\n",
       "0         MainScreenAppear    0.585734    0.397822    0.763273\n",
       "1         CartScreenAppear    0.198224    0.105379    0.740643\n",
       "2       OffersScreenAppear    0.323376    0.253218    0.878078\n",
       "3  PaymentScreenSuccessful    0.109063    0.234090    0.676421\n",
       "4                 Tutorial    0.875684    0.896316    0.773335"
      ]
     },
     "execution_count": 32,
     "metadata": {},
     "output_type": "execute_result"
    }
   ],
   "source": [
    "#Repetir prueba para los demás eventos\n",
    "\n",
    "def compare_events (data, evento, grupo1, grupo2):\n",
    "    a = datos_test(data, evento, grupo1)\n",
    "    b = datos_test(data, evento, grupo2)\n",
    "    mannwhitneyu = (stats.mannwhitneyu(a,b)[1])\n",
    "    return mannwhitneyu\n",
    "\n",
    "eventos = filtered['Evento'].unique()\n",
    "result = []\n",
    "\n",
    "for e in eventos:\n",
    "    p_aa = compare_events(df_events, e, 246, 247)\n",
    "    p_ab = compare_events(df_events, e, 246, 248)\n",
    "    p_bb = compare_events(df_events, e, 247, 248)\n",
    "    result.append({'Evento': e, 'p_246vs247': p_aa, 'p_246vs248': p_ab, 'p_247vs248': p_bb})\n",
    "\n",
    "result_df = pd.DataFrame(result)\n",
    "\n",
    "#Mostar df\n",
    "result_df"
   ]
  },
  {
   "cell_type": "code",
   "execution_count": 33,
   "metadata": {},
   "outputs": [
    {
     "name": "stdout",
     "output_type": "stream",
     "text": [
      "Pruebas realizadas:  15\n"
     ]
    }
   ],
   "source": [
    "#Número de test realizados\n",
    "num_test = len(eventos)*3\n",
    "print('Pruebas realizadas: ',num_test)"
   ]
  },
  {
   "cell_type": "code",
   "execution_count": 34,
   "metadata": {},
   "outputs": [
    {
     "data": {
      "image/png": "[encoded data removed]",
      "text/plain": [
       "<Figure size 800x500 with 2 Axes>"
      ]
     },
     "metadata": {},
     "output_type": "display_data"
    }
   ],
   "source": [
    "#Gráfico valores p comparativo \n",
    "#Acomodar los datos para que se puedan leer para gráfica de calor\n",
    "comparativo_valor_P = pd.DataFrame({\n",
    "    'Evento': ['Tutorial', 'MainScreenAppear', 'OffersScreenAppear', 'CartScreenAppear', 'PaymentScreenSuccessful'],\n",
    "    'p_246vs247': [0.875684, 0.585734, 0.323376, 0.198224, 0.109063],\n",
    "    'p_246vs248': [0.896316, 0.397822, 0.253218, 0.105379, 0.234090],\n",
    "    'p_247vs248': [0.773335, 0.763273, 0.878078, 0.740643, 0.676421]\n",
    "})\n",
    "\n",
    "#Reestructurar\n",
    "comparativo_valor_P = comparativo_valor_P.melt(id_vars='Evento', var_name='Comparativo', value_name='p_valor')\n",
    "\n",
    "#Graficar\n",
    "pivot = comparativo_valor_P.pivot(index='Evento', columns='Comparativo', values='p_valor')\n",
    "\n",
    "plt.figure(figsize = (8,5))\n",
    "sns.heatmap(pivot, annot=True, fmt='.4f', cbar_kws={'label': 'p-valor'}, linewidths=1, linecolor='gray')\n",
    "plt.title('Comparativo de valores P por Evento y Grupo')\n",
    "plt.xlabel('Comparación de Grupos')\n",
    "plt.ylabel('Eventos')\n",
    "plt.tight_layout()\n",
    "plt.show()"
   ]
  },
  {
   "cell_type": "markdown",
   "metadata": {},
   "source": [
    "## CONCLUSIONES\n",
    "\n",
    "No se encontraron diferencias significativas entre los grupos 246 y 247 lo cuál nos indica que la muestra funciona adecuadamente, es decir no se detectaron diferencias falsas por azar.\n",
    "\n",
    "Sin embargo al evaluar al grupo 248 vs los anteriores, se considera que podría tratarse de un periodo de tiempo muy corto, una semana, para poder detectar diferencias significativas ya que al momento de estas pruebas, no existe una afectación positiva o negativa por las modificaciones en la fuente de la aplicación de alimentos."
   ]
  },
  {
   "cell_type": "markdown",
   "metadata": {},
   "source": [
    "## Comentario general del revisor \n"
   ]
  },
  {
   "cell_type": "markdown",
   "metadata": {},
   "source": [
    "<div class=\"alert alert-block alert-success\">  \n",
    "<b>Comentario del revisor</b> <a class=\"tocSkip\"></a><br>  \n",
    "<b>¡Proyecto aprobado!</b>  \n",
    "    \n",
    "Quiero felicitarte por el excelente trabajo que has realizado en esta entrega. Has corregido cuidadosamente cada uno de los puntos señalados en las observaciones previas, demostrando atención al detalle, criterio técnico y compromiso con la mejora continua. La forma en que ajustaste las pruebas estadísticas y validaste las proporciones en cada grupo muestra una comprensión más profunda del diseño experimental y del análisis de datos.\n",
    "\n",
    "Se agradece sinceramente tu actitud receptiva frente a las sugerencias: integrar cambios con intención y lógica es una señal clara de desarrollo profesional.\n",
    "\n",
    "Has demostrado que el error no es un obstáculo, sino una oportunidad de aprendizaje valiosa. Tu capacidad para observar, reflexionar y mejorar de forma autónoma es una fortaleza poderosa en el mundo del análisis de datos. \n",
    "</div>\n"
   ]
  },
  {
   "cell_type": "code",
   "execution_count": null,
   "metadata": {},
   "outputs": [],
   "source": []
  }
 ],
 "metadata": {
  "kernelspec": {
   "display_name": "Python 3 (ipykernel)",
   "language": "python",
   "name": "python3"
  },
  "language_info": {
   "codemirror_mode": {
    "name": "ipython",
    "version": 3
   },
   "file_extension": ".py",
   "mimetype": "text/x-python",
   "name": "python",
   "nbconvert_exporter": "python",
   "pygments_lexer": "ipython3",
   "version": "3.9.23"
  }
 },
 "nbformat": 4,
 "nbformat_minor": 4
}
